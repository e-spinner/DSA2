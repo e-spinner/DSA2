{
 "cells": [
  {
   "cell_type": "code",
   "execution_count": 6,
   "metadata": {},
   "outputs": [
    {
     "name": "stdout",
     "output_type": "stream",
     "text": [
      "[16 18 10 17 15 13]\n",
      "[18 20 12 19 17 15]\n",
      "[10 12  4 11  9  7]\n",
      "[17 19 11 18 16 14]\n",
      "[15 17  9 16 14 12]\n",
      "[13 15  7 14 12 10]\n"
     ]
    }
   ],
   "source": [
    "import numpy as np\n",
    "array = np.array([8, 10, 2, 9, 7, 5])\n",
    "target = 11\n",
    "\n",
    "def pair( array, target ) :\n",
    "    \n",
    "    for i in array :\n",
    "        addarray = array + i\n",
    "        print(addarray)\n",
    "        \n",
    "pair( array, target )"
   ]
  }
 ],
 "metadata": {
  "kernelspec": {
   "display_name": "base",
   "language": "python",
   "name": "python3"
  },
  "language_info": {
   "codemirror_mode": {
    "name": "ipython",
    "version": 3
   },
   "file_extension": ".py",
   "mimetype": "text/x-python",
   "name": "python",
   "nbconvert_exporter": "python",
   "pygments_lexer": "ipython3",
   "version": "3.11.5"
  }
 },
 "nbformat": 4,
 "nbformat_minor": 2
}
