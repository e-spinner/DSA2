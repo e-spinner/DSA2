{
 "cells": [
  {
   "cell_type": "markdown",
   "metadata": {},
   "source": [
    "# Evan Dinan and Elijah Spinner - Dijkstra Homework\n",
    "\n",
    "Commented code is [here](/main.cpp)"
   ]
  },
  {
   "cell_type": "markdown",
   "metadata": {},
   "source": [
    "#### Dijkstra Algorithim implmentation"
   ]
  },
  {
   "cell_type": "code",
   "execution_count": 1,
   "metadata": {},
   "outputs": [],
   "source": [
    "import numpy as np\n",
    "import heapq\n",
    "\n",
    "def dijkstra(graph, start_vertex, end_vertex):\n",
    "    # Initialize the size of the graph, distances, previous nodes, and priority queue\n",
    "    V = graph.size\n",
    "    dist = np.full(V, np.inf)  # Fill distances array with infinity\n",
    "    prev = np.full(V, -1)  # Fill previous nodes array with -1\n",
    "    pq = []\n",
    "\n",
    "    # Set the starting vertex distance to 0 and push it into the priority queue\n",
    "    dist[start_vertex] =  0\n",
    "    heapq.heappush(pq, (0, start_vertex))\n",
    "\n",
    "    # While the priority queue is not empty, process the vertices\n",
    "    while len(pq) !=  0:\n",
    "        _, current_vertex = heapq.heappop(pq)  # Pop the vertex with the smallest distance\n",
    "\n",
    "        # Iterate through each neighbor of the current vertex\n",
    "        for neighbor in graph.list[current_vertex]:\n",
    "            compare = neighbor[0]  # Neighbor's vertex\n",
    "            weight = neighbor[1]  # Edge weight\n",
    "            # If a shorter path to the neighbor is found, update its distance and previous node\n",
    "            if dist[current_vertex] != np.inf and dist[current_vertex] + weight < dist[compare]:\n",
    "                dist[compare] = dist[current_vertex] + weight\n",
    "                prev[compare] = current_vertex\n",
    "                heapq.heappush(pq, (dist[compare], compare))  # Re-add the neighbor to the queue with new distance\n",
    "\n",
    "    # Construct the shortest path from end_vertex to start_vertex\n",
    "    path = []\n",
    "    v = end_vertex\n",
    "    # Follow the previous nodes until the start vertex is reached\n",
    "    while v != -1 :\n",
    "        path.append( v )\n",
    "        v = prev[v]\n",
    "\n",
    "    path.reverse()  # Reverse the path to start from start_vertex to end_vertex\n",
    "    return path"
   ]
  },
  {
   "cell_type": "markdown",
   "metadata": {},
   "source": [
    "#### Driver Code using our Adjacency List"
   ]
  },
  {
   "cell_type": "code",
   "execution_count": 36,
   "metadata": {},
   "outputs": [
    {
     "name": "stdout",
     "output_type": "stream",
     "text": [
      "0     ->  1(4)  ->  7(8)  \n",
      "1     ->  0(4)  ->  2(8)  ->  7(11) \n",
      "2     ->  1(8)  ->  3(7)  ->  5(4)  ->  8(2)  \n",
      "3     ->  2(7)  ->  4(9)  ->  5(14) \n",
      "4     ->  3(9)  ->  5(10) \n",
      "5     ->  2(4)  ->  3(14) ->  4(10) ->  6(2)  \n",
      "6     ->  5(2)  ->  7(1)  ->  8(6)  \n",
      "7     ->  0(8)  ->  1(11) ->  6(1)  ->  8(7)  \n",
      "8     ->  2(2)  ->  6(6)  ->  7(7)  \n",
      "[0, 1, 2, 3]\n"
     ]
    }
   ],
   "source": [
    "from adjacency import List\n",
    "\n",
    "# Create a List object with 7 vertexes and their names\n",
    "graph = List( 9, [0, 1, 2, 3, 4, 5, 6, 7, 8] )\n",
    "# Add edges with specified weights\n",
    "\n",
    "graph.add(0, 1, 4, True)\n",
    "graph.add(0, 7, 8, True)\n",
    "graph.add(1, 2, 8, True)\n",
    "graph.add(1, 7, 11, True)\n",
    "graph.add(2, 3, 7, True)\n",
    "graph.add(2, 5, 4, True)\n",
    "graph.add(2, 8, 2, True)\n",
    "graph.add(3, 4, 9, True)\n",
    "graph.add(3, 5, 14, True)\n",
    "graph.add(4, 5, 10, True)\n",
    "graph.add(5, 6, 2, True)\n",
    "graph.add(6, 7, 1, True)\n",
    "graph.add(6, 8, 6, True)\n",
    "graph.add(7, 8, 7, True)\n",
    "\n",
    "graph.print()\n",
    "\n",
    "print( dijkstra( graph, 0, 3))"
   ]
  }
 ],
 "metadata": {
  "kernelspec": {
   "display_name": "base",
   "language": "python",
   "name": "python3"
  },
  "language_info": {
   "codemirror_mode": {
    "name": "ipython",
    "version": 3
   },
   "file_extension": ".py",
   "mimetype": "text/x-python",
   "name": "python",
   "nbconvert_exporter": "python",
   "pygments_lexer": "ipython3",
   "version": "3.11.5"
  }
 },
 "nbformat": 4,
 "nbformat_minor": 2
}
